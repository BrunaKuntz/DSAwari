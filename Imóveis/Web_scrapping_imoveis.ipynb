{
  "nbformat": 4,
  "nbformat_minor": 5,
  "metadata": {
    "kernelspec": {
      "display_name": "Python 3",
      "language": "python",
      "name": "python3"
    },
    "language_info": {
      "codemirror_mode": {
        "name": "ipython",
        "version": 3
      },
      "file_extension": ".py",
      "mimetype": "text/x-python",
      "name": "python",
      "nbconvert_exporter": "python",
      "pygments_lexer": "ipython3",
      "version": "3.8.0"
    },
    "colab": {
      "name": "viva_real.ipynb",
      "provenance": [],
      "include_colab_link": true
    }
  },
  "cells": [
    {
      "cell_type": "markdown",
      "metadata": {
        "id": "view-in-github",
        "colab_type": "text"
      },
      "source": [
        "<a href=\"https://colab.research.google.com/github/BrunaKuntz/DSAwari/blob/main/Web_scrapping_imoveis.ipynb\" target=\"_parent\"><img src=\"https://colab.research.google.com/assets/colab-badge.svg\" alt=\"Open In Colab\"/></a>"
      ]
    },
    {
      "cell_type": "code",
      "metadata": {
        "id": "instructional-investing"
      },
      "source": [
        "from selenium import webdriver\n",
        "from webdriver_manager.chrome import ChromeDriverManager\n",
        "from time import sleep\n",
        "import pandas as pd\n",
        "from tqdm import tqdm\n",
        "from datetime import datetime\n",
        "\n",
        "driver = webdriver.Chrome(ChromeDriverManager().install())\n",
        "\n",
        "urls_dict = {\"Brooklin\": \"https://www.vivareal.com.br/venda/sp/sao-paulo/zona-sul/brooklin/apartamento_residencial/\",\n",
        "             \"Butanta\": \"https://www.vivareal.com.br/venda/sp/sao-paulo/zona-oeste/butanta/apartamento_residencial/\",\n",
        "             \"Republica\": \"https://www.vivareal.com.br/venda/sp/sao-paulo/centro/republica/apartamento_residencial/\",\n",
        "             \"Bras\": \"https://www.vivareal.com.br/venda/sp/sao-paulo/zona-leste/bras/apartamento_residencial/\",\n",
        "             \"Fregesia do O\": \"https://www.vivareal.com.br/venda/sp/sao-paulo/zona-norte/freguesia-do-o/apartamento_residencial/\",\n",
        "             \"Higienopolis\": \"https://www.vivareal.com.br/venda/sp/sao-paulo/centro/higienopolis/apartamento_residencial/\",\n",
        "             \"Jardins\": \"https://www.vivareal.com.br/venda/sp/sao-paulo/zona-oeste/jardins/apartamento_residencial/\",\n",
        "             \"Lapa\": \"https://www.vivareal.com.br/venda/sp/sao-paulo/zona-oeste/lapa/apartamento_residencial/\",\n",
        "             \"Moema\": \"https://www.vivareal.com.br/venda/sp/sao-paulo/zona-sul/moema/apartamento_residencial/\", \n",
        "             \"Mooca\": \"https://www.vivareal.com.br/venda/sp/sao-paulo/zona-leste/mooca/apartamento_residencial/\",\n",
        "             \"Morumbi\": \"https://www.vivareal.com.br/venda/sp/sao-paulo/zona-sul/morumbi/apartamento_residencial/\",\n",
        "             \"Pinheiros\": \"https://www.vivareal.com.br/venda/sp/sao-paulo/zona-oeste/pinheiros/apartamento_residencial/\",\n",
        "             \"Santana\": \"https://www.vivareal.com.br/venda/sp/sao-paulo/zona-norte/santana/apartamento_residencial/\",\n",
        "             \"Saude\": \"https://www.vivareal.com.br/venda/sp/sao-paulo/zona-sul/saude/apartamento_residencial/\",\n",
        "             \"Vila Mariana\": \"https://www.vivareal.com.br/venda/sp/sao-paulo/zona-sul/vila-mariana/apartamento_residencial/\",\n",
        "             \"Vila Matilde\": \"https://www.vivareal.com.br/venda/sp/sao-paulo/zona-leste/vila-matilde/apartamento_residencial/\",\n",
        "             \"Campo limpo\": \"https://www.vivareal.com.br/venda/sp/sao-paulo/zona-sul/campo-limpo/apartamento_residencial/\",\n",
        "             \"Tucuruvi\": \"https://www.vivareal.com.br/venda/sp/sao-paulo/zona-norte/tucuruvi/apartamento_residencial/\"\n",
        "            }\n",
        "\n",
        "errors = []\n",
        "results = []\n",
        "\n",
        "for bairro, url in urls_dict.items():\n",
        "    current_url = url\n",
        "    driver.get(url)\n",
        "    sleep(2)\n",
        "\n",
        "    try:\n",
        "        driver.find_element_by_class_name(\"cookie-notifier__cta\").click()\n",
        "    except:\n",
        "            print(\"No cookies!\")\n",
        "\n",
        "    for i in tqdm(range(30), desc=bairro):\n",
        "        sleep(10)\n",
        "        main_div = driver.find_element_by_class_name(\"results-main__panel\")\n",
        "        properties = main_div.find_elements_by_class_name(\"js-property-card\")\n",
        "        paginator = driver.find_element_by_class_name(\"js-results-pagination\")\n",
        "        next_page = paginator.find_element_by_xpath(\"//a[@title='Próxima página']\")\n",
        "        \n",
        "        for i,apartment in enumerate(properties):\n",
        "            url = apartment.find_element_by_class_name(\"js-card-title\").get_attribute(\"href\")\n",
        "            apto_id = url.split(\"id-\")[-1][:-1]\n",
        "            header = apartment.find_element_by_class_name(\"property-card__title\").text\n",
        "            try:\n",
        "                address = apartment.find_element_by_class_name(\"property-card__address\").text\n",
        "            except:\n",
        "                address = None\n",
        "            try:\n",
        "                area = apartment.find_element_by_class_name(\"js-property-card-detail-area\").text\n",
        "            except:\n",
        "                area = None\n",
        "            try:\n",
        "                rooms = apartment.find_element_by_class_name(\"js-property-detail-rooms\").text\n",
        "            except:\n",
        "                rooms = None\n",
        "            try:\n",
        "                bathrooms = apartment.find_element_by_class_name(\"js-property-detail-bathroom\").text\n",
        "            except:\n",
        "                bathrooms = None\n",
        "            try:\n",
        "                garages = apartment.find_element_by_class_name(\"js-property-detail-garages\").text\n",
        "            except:\n",
        "                garages = None\n",
        "            try:\n",
        "                amenities = apartment.find_element_by_class_name(\"property-card__amenities\").text\n",
        "            except:\n",
        "                amenities = None\n",
        "            try:\n",
        "                price = apartment.find_element_by_class_name(\"js-property-card-prices\").text\n",
        "            except:\n",
        "                price = None\n",
        "            try:\n",
        "                condo = apartment.find_element_by_class_name(\"js-condo-price\").text\n",
        "            except:\n",
        "                condo = None\n",
        "            crawled_at = datetime.now().strftime(\"%Y-%m-%d %H:%M\")\n",
        "            results.append({\"id\": apto_id,\n",
        "                            \"url\": url,\n",
        "                            \"header\": header,\n",
        "                            \"address\": address,\n",
        "                            \"area\": area,\n",
        "                            \"rooms\": rooms,\n",
        "                            \"bathrooms\": bathrooms,\n",
        "                            \"garages\": garages,\n",
        "                            \"amenities\": amenities,\n",
        "                            \"price\": price,\n",
        "                            \"condo\": condo,\n",
        "                            \"bairro\": bairro,\n",
        "                            \"crawled_at\": crawled_at})\n",
        "        try:\n",
        "            next_page.click()\n",
        "        except:\n",
        "            print(\"Next page not clickable\")\n",
        "            break"
      ],
      "id": "instructional-investing",
      "execution_count": null,
      "outputs": []
    },
    {
      "cell_type": "code",
      "metadata": {
        "id": "familiar-building"
      },
      "source": [
        "pd.DataFrame(results).to_csv(\"raw_data.csv\", index=False)\n",
        "driver.close()"
      ],
      "id": "familiar-building",
      "execution_count": null,
      "outputs": []
    }
  ]
}
