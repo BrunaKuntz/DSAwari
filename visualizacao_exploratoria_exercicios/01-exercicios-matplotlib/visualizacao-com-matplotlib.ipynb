{
 "cells": [
  {
   "cell_type": "markdown",
   "metadata": {
    "id": "RzfiN0Y8Y_1I"
   },
   "source": [
    "<img src=\"https://i.imgur.com/YX6UATs.png\"  width=\"160\">"
   ]
  },
  {
   "cell_type": "markdown",
   "metadata": {
    "id": "IsbDjKiKY_1X"
   },
   "source": [
    "# Projeto - Visualização com Matplotlib\n",
    "\n",
    "## Considerações iniciais\n",
    "\n",
    "O objetivo deste notebook é fazer com que o leitor assimile os recursos de uma das bibliotecas mais importantes do Python: o Matplotlib. Para isso, exemplos e conceitos desta biblioteca serão apresentados ao longo da jornada. Concomitantemente, serão solicitadas algumas tarefas práticas ao leitor.\n",
    "\n",
    "### Por que o Matplotlib?\n",
    "Apesar do Python possuir um ecossitema de feramentas de visualização muito rico para o cientista de dados, o Matplotlib, sem dúvidas, também detém seu lugar de destaque.\n",
    "\n",
    "> \"Matplolib tenta facilitar as coisas fáceis e tornar as coisas difíceis possíveis.\"\n",
    ">\n",
    "> [Site do Matplotlib](https://matplotlib.org/)\n",
    "\n",
    "Além do Matplotlib, utilizaremos, também, um conjunto de dados e outras bibliotecas de apoio, como o [Pandas](https://pandas.pydata.org/), por exemplo. Afinal, o Matplotlib é ótimo, mas não brilha sozinho.\n",
    "\n",
    "### Prepare seu ambiente\n",
    "\n",
    "Se necessário, faça a instalação da biblioteca no seu sistema usando o gerenciador de pacotes da linguagem, no prompt/terminal/cmd digite:\n",
    "```\n",
    "$ pip install matplotlib\n",
    "```\n",
    "\n",
    "Ou caso esteja usando o Anaconda:\n",
    "```\n",
    "$ conda install matplotlib\n",
    "```\n",
    "\n",
    "### Conjunto de dados\n",
    "O conjunto de dados utilizado são os registros de milhares de lutas no Ultimate Fight Championship (UFC). O arquivo [ufc.csv](ufc.csv) possui mais de 145 colunas, o que é demasiadamente grande para as nossas intenções. Deste modo, iremos focar apenas uma parte dos dados.\n",
    "\n",
    "#### Descrição do dados\n",
    "\n",
    "De todas as colunas do arquivo [ufc.csv](ufc.csv), iremos praticar com:\n",
    "- R_fighter: Nome do lutador do canto vermelho.\n",
    "- B_fighter: Nome do lutador do canto azul.\n",
    "- Referee: Nome do árbitro da luta.\n",
    "- date: Data do evento\n",
    "- location: Local do evento.\n",
    "- Winner: Cor do vencedor - Red ou Blue.\n",
    "- title_bout: Se é uma disputa pelo título.\n",
    "- weight_class: Classe de peso da luta."
   ]
  },
  {
   "cell_type": "markdown",
   "metadata": {
    "id": "9fWFPz8NY_1Z"
   },
   "source": [
    "## Procedimentos\n",
    "\n",
    "Vamos abordar alguns padrões básicos de uso e práticas recomendadas para ajudar você a utilizar o Matplotlib. Por ter um código bastante extenso, o Matplotlib pode ser um desafio ultrajante (e é) para os iniciantes, mas não se intimide. A intenção deste guia é, justamente, focar no essencial para plotagem dos primeiros gráficos sem necessitar de muita informação.\n",
    "\n",
    "### Importando as bibliotecas\n",
    "- **%matplotlib inline**: é uma *Magic Word* do Jupyter Notebook que informa à plataforma que informa ao Jupyter para que os gráficos sejam plotados diratemente no notebook.\n",
    "- **numpy**: Uma biblioteca de apoio para gerar alguns dados para plotagem.\n",
    "- **pandas**: A biblioteca pandas fornece estruturas e ferramentas de análise de dados. Iremos utilizá-la para carregar e manipular o conjunto de dados em uma estrutura chamada *dataframe*. Por convenção, recomenda-se o pandas seja utilizado com o nome *pd*.\n",
    "- **matplotlib.pyplot**: A estrela de hoje. Por convenção, recomenda-se que matplotlib.pyplot seja acessado via pelo nome *plt*."
   ]
  },
  {
   "cell_type": "code",
   "execution_count": null,
   "metadata": {
    "id": "YQg6Eu4cY_1a"
   },
   "outputs": [],
   "source": [
    "#%matplotlib inline\n",
    "import numpy as np\n",
    "import pandas as pd\n",
    "import matplotlib.pyplot as plt"
   ]
  },
  {
   "cell_type": "markdown",
   "metadata": {
    "id": "mVZiyYJIY_1b"
   },
   "source": [
    "### TAREFA 01\n",
    "1. Importe o arquivo [ufc.csv](ufc.csv) em um dataframe.\n",
    "2. Visualize as primeiras 5 linhas do dataframe"
   ]
  },
  {
   "cell_type": "code",
   "execution_count": null,
   "metadata": {
    "id": "J4swv81-Y_1b"
   },
   "outputs": [],
   "source": [
    "fights = pd.read_csv(\"ufc.csv\")\n",
    "fights.head()"
   ]
  },
  {
   "cell_type": "code",
   "execution_count": null,
   "metadata": {
    "id": "e3HwaOZ7Y_1c",
    "outputId": "3bcf40dd-84e4-499e-c8b4-5a1fd930dc62"
   },
   "outputs": [
    {
     "data": {
      "text/html": [
       "<div>\n",
       "<style scoped>\n",
       "    .dataframe tbody tr th:only-of-type {\n",
       "        vertical-align: middle;\n",
       "    }\n",
       "\n",
       "    .dataframe tbody tr th {\n",
       "        vertical-align: top;\n",
       "    }\n",
       "\n",
       "    .dataframe thead th {\n",
       "        text-align: right;\n",
       "    }\n",
       "</style>\n",
       "<table border=\"1\" class=\"dataframe\">\n",
       "  <thead>\n",
       "    <tr style=\"text-align: right;\">\n",
       "      <th></th>\n",
       "      <th>R_fighter</th>\n",
       "      <th>B_fighter</th>\n",
       "      <th>Referee</th>\n",
       "      <th>date</th>\n",
       "      <th>location</th>\n",
       "      <th>Winner</th>\n",
       "      <th>title_bout</th>\n",
       "      <th>weight_class</th>\n",
       "      <th>no_of_rounds</th>\n",
       "      <th>B_current_lose_streak</th>\n",
       "      <th>...</th>\n",
       "      <th>R_win_by_KO/TKO</th>\n",
       "      <th>R_win_by_Submission</th>\n",
       "      <th>R_win_by_TKO_Doctor_Stoppage</th>\n",
       "      <th>R_wins</th>\n",
       "      <th>R_Stance</th>\n",
       "      <th>R_Height_cms</th>\n",
       "      <th>R_Reach_cms</th>\n",
       "      <th>R_Weight_lbs</th>\n",
       "      <th>B_age</th>\n",
       "      <th>R_age</th>\n",
       "    </tr>\n",
       "  </thead>\n",
       "  <tbody>\n",
       "    <tr>\n",
       "      <td>0</td>\n",
       "      <td>Henry Cejudo</td>\n",
       "      <td>Marlon Moraes</td>\n",
       "      <td>Marc Goddard</td>\n",
       "      <td>2019-06-08</td>\n",
       "      <td>Chicago, Illinois, USA</td>\n",
       "      <td>Red</td>\n",
       "      <td>True</td>\n",
       "      <td>Bantamweight</td>\n",
       "      <td>5</td>\n",
       "      <td>0.0</td>\n",
       "      <td>...</td>\n",
       "      <td>2.0</td>\n",
       "      <td>0.0</td>\n",
       "      <td>0.0</td>\n",
       "      <td>8.0</td>\n",
       "      <td>Orthodox</td>\n",
       "      <td>162.56</td>\n",
       "      <td>162.56</td>\n",
       "      <td>135.0</td>\n",
       "      <td>31.0</td>\n",
       "      <td>32.0</td>\n",
       "    </tr>\n",
       "    <tr>\n",
       "      <td>1</td>\n",
       "      <td>Valentina Shevchenko</td>\n",
       "      <td>Jessica Eye</td>\n",
       "      <td>Robert Madrigal</td>\n",
       "      <td>2019-06-08</td>\n",
       "      <td>Chicago, Illinois, USA</td>\n",
       "      <td>Red</td>\n",
       "      <td>True</td>\n",
       "      <td>Women's Flyweight</td>\n",
       "      <td>5</td>\n",
       "      <td>0.0</td>\n",
       "      <td>...</td>\n",
       "      <td>0.0</td>\n",
       "      <td>2.0</td>\n",
       "      <td>0.0</td>\n",
       "      <td>5.0</td>\n",
       "      <td>Southpaw</td>\n",
       "      <td>165.10</td>\n",
       "      <td>167.64</td>\n",
       "      <td>125.0</td>\n",
       "      <td>32.0</td>\n",
       "      <td>31.0</td>\n",
       "    </tr>\n",
       "    <tr>\n",
       "      <td>2</td>\n",
       "      <td>Tony Ferguson</td>\n",
       "      <td>Donald Cerrone</td>\n",
       "      <td>Dan Miragliotta</td>\n",
       "      <td>2019-06-08</td>\n",
       "      <td>Chicago, Illinois, USA</td>\n",
       "      <td>Red</td>\n",
       "      <td>False</td>\n",
       "      <td>Lightweight</td>\n",
       "      <td>3</td>\n",
       "      <td>0.0</td>\n",
       "      <td>...</td>\n",
       "      <td>3.0</td>\n",
       "      <td>6.0</td>\n",
       "      <td>1.0</td>\n",
       "      <td>14.0</td>\n",
       "      <td>Orthodox</td>\n",
       "      <td>180.34</td>\n",
       "      <td>193.04</td>\n",
       "      <td>155.0</td>\n",
       "      <td>36.0</td>\n",
       "      <td>35.0</td>\n",
       "    </tr>\n",
       "    <tr>\n",
       "      <td>3</td>\n",
       "      <td>Jimmie Rivera</td>\n",
       "      <td>Petr Yan</td>\n",
       "      <td>Kevin MacDonald</td>\n",
       "      <td>2019-06-08</td>\n",
       "      <td>Chicago, Illinois, USA</td>\n",
       "      <td>Blue</td>\n",
       "      <td>False</td>\n",
       "      <td>Bantamweight</td>\n",
       "      <td>3</td>\n",
       "      <td>0.0</td>\n",
       "      <td>...</td>\n",
       "      <td>1.0</td>\n",
       "      <td>0.0</td>\n",
       "      <td>0.0</td>\n",
       "      <td>6.0</td>\n",
       "      <td>Orthodox</td>\n",
       "      <td>162.56</td>\n",
       "      <td>172.72</td>\n",
       "      <td>135.0</td>\n",
       "      <td>26.0</td>\n",
       "      <td>29.0</td>\n",
       "    </tr>\n",
       "    <tr>\n",
       "      <td>4</td>\n",
       "      <td>Tai Tuivasa</td>\n",
       "      <td>Blagoy Ivanov</td>\n",
       "      <td>Dan Miragliotta</td>\n",
       "      <td>2019-06-08</td>\n",
       "      <td>Chicago, Illinois, USA</td>\n",
       "      <td>Blue</td>\n",
       "      <td>False</td>\n",
       "      <td>Heavyweight</td>\n",
       "      <td>3</td>\n",
       "      <td>0.0</td>\n",
       "      <td>...</td>\n",
       "      <td>2.0</td>\n",
       "      <td>0.0</td>\n",
       "      <td>0.0</td>\n",
       "      <td>3.0</td>\n",
       "      <td>Southpaw</td>\n",
       "      <td>187.96</td>\n",
       "      <td>190.50</td>\n",
       "      <td>264.0</td>\n",
       "      <td>32.0</td>\n",
       "      <td>26.0</td>\n",
       "    </tr>\n",
       "  </tbody>\n",
       "</table>\n",
       "<p>5 rows × 145 columns</p>\n",
       "</div>"
      ],
      "text/plain": [
       "              R_fighter       B_fighter          Referee        date  \\\n",
       "0          Henry Cejudo   Marlon Moraes     Marc Goddard  2019-06-08   \n",
       "1  Valentina Shevchenko     Jessica Eye  Robert Madrigal  2019-06-08   \n",
       "2         Tony Ferguson  Donald Cerrone  Dan Miragliotta  2019-06-08   \n",
       "3         Jimmie Rivera        Petr Yan  Kevin MacDonald  2019-06-08   \n",
       "4           Tai Tuivasa   Blagoy Ivanov  Dan Miragliotta  2019-06-08   \n",
       "\n",
       "                 location Winner  title_bout       weight_class  no_of_rounds  \\\n",
       "0  Chicago, Illinois, USA    Red        True       Bantamweight             5   \n",
       "1  Chicago, Illinois, USA    Red        True  Women's Flyweight             5   \n",
       "2  Chicago, Illinois, USA    Red       False        Lightweight             3   \n",
       "3  Chicago, Illinois, USA   Blue       False       Bantamweight             3   \n",
       "4  Chicago, Illinois, USA   Blue       False        Heavyweight             3   \n",
       "\n",
       "   B_current_lose_streak  ...  R_win_by_KO/TKO  R_win_by_Submission  \\\n",
       "0                    0.0  ...              2.0                  0.0   \n",
       "1                    0.0  ...              0.0                  2.0   \n",
       "2                    0.0  ...              3.0                  6.0   \n",
       "3                    0.0  ...              1.0                  0.0   \n",
       "4                    0.0  ...              2.0                  0.0   \n",
       "\n",
       "   R_win_by_TKO_Doctor_Stoppage  R_wins  R_Stance  R_Height_cms  R_Reach_cms  \\\n",
       "0                           0.0     8.0  Orthodox        162.56       162.56   \n",
       "1                           0.0     5.0  Southpaw        165.10       167.64   \n",
       "2                           1.0    14.0  Orthodox        180.34       193.04   \n",
       "3                           0.0     6.0  Orthodox        162.56       172.72   \n",
       "4                           0.0     3.0  Southpaw        187.96       190.50   \n",
       "\n",
       "   R_Weight_lbs  B_age  R_age  \n",
       "0         135.0   31.0   32.0  \n",
       "1         125.0   32.0   31.0  \n",
       "2         155.0   36.0   35.0  \n",
       "3         135.0   26.0   29.0  \n",
       "4         264.0   32.0   26.0  \n",
       "\n",
       "[5 rows x 145 columns]"
      ]
     },
     "execution_count": 2,
     "metadata": {
      "tags": []
     },
     "output_type": "execute_result"
    }
   ],
   "source": [
    "# Resultado esperado (não modifique esta célula)"
   ]
  },
  {
   "cell_type": "markdown",
   "metadata": {
    "id": "8GVo9Pe6Y_1e"
   },
   "source": [
    "### Diferenças entre os métodos plt.show() e plt.plot()\n",
    "Caso você esteja executando matplotlib a partir do script Python, use o *plt.show()* em qualquer plotagem. Porém, no nosso caso, rodando a partir do notebook, nosso trabalho poderá ser realizado apenas com *plt.plot()*. Não se esqueça que para isso, ativamos a opção de apresentar os gráficos diretamente no notebook através do comando *%matplotlib inline*."
   ]
  },
  {
   "cell_type": "markdown",
   "metadata": {
    "id": "gGM1GgvkY_1e"
   },
   "source": [
    "### A anatomia de um gráfico\n",
    "\n",
    "O Matplotlib é baseado no conceito de que todos os elementos que constituem um gráfico estão organizados dentro de uma hierarquia. No topo desta hirarquia está o ambiente do Matplotlib, fornecido pelo módulo que importamos anteriormente - __matplotlib.pyplot__. A partir dele, o usuário acessa funções que adicionam elementos nos gráficos (linhas, imagens, legendas, etc).\n",
    "\n",
    "Descendo na hirarquia, o usuário poderá utilizar objetos que possuem funcionalidades. Por exemplo, uma figura é criada a partir de um objeto *Figure* ou um subgráfico em um gráfico é manipulado por um objeto *Axe*. Aliás, no fim das contas, para deixar o código mais \"acessível\", o usuário acaba sempre trabalhando com os objetos do Matplotlib.\n",
    "\n",
    "Para esclarecer um pouco mais, observe a imagem abaixo. Nela, estão contidas os elementos que compoem um gráfico:\n",
    "<center>\n",
    "<img src='https://matplotlib.org/_images/anatomy.png' alt='Anatomia de um gráfico' width='600' height='600'/>\n",
    "</center>\n",
    "\n",
    "Não se preocupe em entender cada um dos elementos, o importante é ter a noção de que estes elementos possuem uma hierarquia na organização e que você deve obedecê-la durante a montagem de gráficos mais complexos.\n",
    "\n",
    "#### Figure\n",
    "O *Figure* é o elemento de mais alto nível do gráfico. Uma figura pode ter vários eixos (*Axes*), mas um eixo pode pertencer a somente uma figura. Além disso, o objeto *Figure* aceita parâmetros que formatam nosso gráfico.\n",
    "\n",
    "### TAREFA 02\n",
    "1. Instancie uma figura.\n",
    "2. Use o *plt.plot()* para visualizar no notebook.\n",
    "\n",
    "- **DICA**: O objeto *figure* está dentro do matplotlib.pyplot.\n",
    "- **DICA**: Caso você não tenha usado o comando *%matplotlib inline*, a figura não aparecerá."
   ]
  },
  {
   "cell_type": "code",
   "execution_count": null,
   "metadata": {
    "id": "4P5Djk_HY_1f"
   },
   "outputs": [],
   "source": [
    "fig = plt.figure()\n",
    "plt.plot()"
   ]
  },
  {
   "cell_type": "code",
   "execution_count": null,
   "metadata": {
    "id": "HkKlUfsrY_1g",
    "outputId": "9202a6f6-a64e-44c1-fc32-0474436eb7cd"
   },
   "outputs": [
    {
     "data": {
      "text/plain": [
       "[]"
      ]
     },
     "execution_count": 3,
     "metadata": {
      "tags": []
     },
     "output_type": "execute_result"
    },
    {
     "data": {
      "image/png": "[encoded data removed]",
      "text/plain": [
       "<Figure size 432x288 with 1 Axes>"
      ]
     },
     "metadata": {
      "tags": []
     },
     "output_type": "display_data"
    }
   ],
   "source": [
    "# Resultado esperado (não modifique esta célula)"
   ]
  },
  {
   "cell_type": "markdown",
   "metadata": {
    "id": "vmWXyhT7Y_1h"
   },
   "source": [
    "### TAREFA 03\n",
    "1. Instancie uma figura alterando seu tamanho.\n",
    "2. Use o *plt.plot()* para visualizar no notebook.\n",
    "\n",
    "- **DICA**: Use o parâmetro *figsize*."
   ]
  },
  {
   "cell_type": "code",
   "execution_count": 68,
   "metadata": {
    "id": "Y-v7Nk_iY_1h"
   },
   "outputs": [
    {
     "data": {
      "text/plain": [
       "[]"
      ]
     },
     "execution_count": 68,
     "metadata": {},
     "output_type": "execute_result"
    },
    {
     "data": {
      "image/png": "[encoded data removed]",
      "text/plain": [
       "<Figure size 720x720 with 1 Axes>"
      ]
     },
     "metadata": {
      "needs_background": "light"
     },
     "output_type": "display_data"
    }
   ],
   "source": [
    "fig = plt.figure(figsize=(10, 10))\n",
    "plt.plot()"
   ]
  },
  {
   "cell_type": "code",
   "execution_count": null,
   "metadata": {
    "id": "ki9ei7adY_1i",
    "outputId": "d0be098a-263b-42cf-adc8-3f1ed6f21e70"
   },
   "outputs": [
    {
     "data": {
      "text/plain": [
       "[]"
      ]
     },
     "execution_count": 4,
     "metadata": {
      "tags": []
     },
     "output_type": "execute_result"
    },
    {
     "data": {
      "image/png": "[encoded data removed]",
      "text/plain": [
       "<Figure size 720x720 with 1 Axes>"
      ]
     },
     "metadata": {
      "tags": []
     },
     "output_type": "display_data"
    }
   ],
   "source": [
    "# Resultado esperado (não modifique esta célula)"
   ]
  },
  {
   "cell_type": "markdown",
   "metadata": {
    "id": "ZzJZ9YcfY_1j"
   },
   "source": [
    "#### Axe\n",
    "Pense em um *Axe* como uma região da figura onde você plotará seus gráficos. Uma *Figure* pode ter vários *Axes*, mas um *Axe* pertence a uma só *Figure*. Para adicionar *Axes* à uma *Figure*, podemos utilizar os métodos *fig.add_axes()* ou *fig.add_subplot()*. Para esclarecer, *Axes* e *subplots* são a mesma coisa.\n",
    "\n",
    "O método *fig.add_subplots()* usa 3 números inteiros como parâmetro. Esses três números definem o número de linhas e colunas e a posição do subplot na figura. Por exemplo, usando *fig.add_subplots(ijk)* adiciona um eixo na k-enésima posição de uma grade que possui i linhas e j colunas.\n",
    "\n",
    "O método *fig.add_subplot()* é a maneira mais fácil de configurar seu layout, enquanto *fig.add_axes()* lhe dará mais controle sobre a posição dos seus eixos.\n",
    "\n",
    "### TAREFA 04\n",
    "1. Instancie uma figura\n",
    "2. Adicione dois subplots lado a lado.\n",
    "3. Não se esqueça do plot.plot()\n",
    "\n",
    "**DICA**: Utilize o método *fig.add_axes()*."
   ]
  },
  {
   "cell_type": "code",
   "execution_count": 8,
   "metadata": {
    "id": "oy8BN1tBY_1j"
   },
   "outputs": [
    {
     "data": {
      "text/plain": [
       "[]"
      ]
     },
     "execution_count": 8,
     "metadata": {},
     "output_type": "execute_result"
    },
    {
     "data": {
      "image/png": "[encoded data removed]",
      "text/plain": [
       "<Figure size 432x288 with 2 Axes>"
      ]
     },
     "metadata": {
      "needs_background": "light"
     },
     "output_type": "display_data"
    }
   ],
   "source": [
    "fig = plt.figure()\n",
    "fig.add_axes([0, 0, 0.35, 0.8])\n",
    "fig.add_axes([0.43, 0, 0.35, 0.8])\n",
    "plt.plot()\n",
    "\n",
    "# outra opção\n",
    "# fig.add_subplot(1, 2, 1) # 1 linha, 2 colunas, \n",
    "# fig.add_subplot(1, 2, 2)"
   ]
  },
  {
   "cell_type": "code",
   "execution_count": null,
   "metadata": {
    "id": "ipLR3wUAY_1k",
    "outputId": "5c1089cf-6eb7-47c1-fe36-0fc29a9e79e2"
   },
   "outputs": [
    {
     "data": {
      "text/plain": [
       "[]"
      ]
     },
     "execution_count": 5,
     "metadata": {
      "tags": []
     },
     "output_type": "execute_result"
    },
    {
     "data": {
      "image/png": "[encoded data removed]",
      "text/plain": [
       "<Figure size 432x288 with 2 Axes>"
      ]
     },
     "metadata": {
      "tags": []
     },
     "output_type": "display_data"
    }
   ],
   "source": [
    "# Resultado esperado (não modifique esta célula)"
   ]
  },
  {
   "cell_type": "markdown",
   "metadata": {
    "id": "CoLAwF2GY_1m"
   },
   "source": [
    "Cada subplot contém dois eixos, representados pelos objetos *Axis* (observe a diferença entre *Axes* e *Axis*), que cuidam dos limites de cada subplot. As faixas de valores dos eixos podem ser controlados através dos métodos *axes.set_xlim()* e *axes.set_ylim()*.\n",
    "\n",
    "### TAREFA 05\n",
    "1. Altere os limites dos subplotes da figura anterior\n",
    "2. Para o subplot da esquerda, configure o eixo x de 0 a 10.\n",
    "3. No subplot da direita, defina y entre -1 e 1.\n",
    "4. Adicione os títulos \"Esquerda\" e \"Direita\" nos subplots."
   ]
  },
  {
   "cell_type": "code",
   "execution_count": 9,
   "metadata": {
    "id": "rdkI4gVyY_1n"
   },
   "outputs": [
    {
     "data": {
      "text/plain": [
       "[]"
      ]
     },
     "execution_count": 9,
     "metadata": {},
     "output_type": "execute_result"
    },
    {
     "data": {
      "image/png": "[encoded data removed]",
      "text/plain": [
       "<Figure size 432x288 with 2 Axes>"
      ]
     },
     "metadata": {
      "needs_background": "light"
     },
     "output_type": "display_data"
    }
   ],
   "source": [
    "fig = plt.figure()\n",
    "fig.add_subplot(1, 2, 1) # 1 linha, 2 colunas, 1\n",
    "plt.xlim(0, 10)\n",
    "plt.title(\"Esquerda\")\n",
    "fig.add_subplot(1, 2, 2)\n",
    "plt.ylim(-1, 1)\n",
    "plt.title('Direita')\n",
    "\n",
    "plt.plot()"
   ]
  },
  {
   "cell_type": "code",
   "execution_count": null,
   "metadata": {
    "id": "SNc-jgE9Y_1n",
    "outputId": "d62c2266-d6ed-4639-b1bf-08d7b5bbfdca"
   },
   "outputs": [
    {
     "data": {
      "text/plain": [
       "[]"
      ]
     },
     "execution_count": 6,
     "metadata": {
      "tags": []
     },
     "output_type": "execute_result"
    },
    {
     "data": {
      "image/png": "[encoded data removed]",
      "text/plain": [
       "<Figure size 432x288 with 2 Axes>"
      ]
     },
     "metadata": {
      "tags": []
     },
     "output_type": "display_data"
    }
   ],
   "source": [
    "# Resultado esperado (não modifique esta célula)"
   ]
  },
  {
   "cell_type": "markdown",
   "metadata": {
    "id": "uady_JL2Y_1o"
   },
   "source": [
    "Nossos subplots estão sobreajustados e o eixo y do subplot da direita está ruim de visualizar.\n",
    "\n",
    "### TAREFA 06\n",
    "1. Com base na figura anterior, ajuste o gráfico.\n",
    "2. Ajuste o tamanho da figura.\n",
    "\n",
    "**DICA**: Use o método *figure.tight_layout()*."
   ]
  },
  {
   "cell_type": "code",
   "execution_count": 78,
   "metadata": {
    "id": "qiZT6Ka9Y_1p"
   },
   "outputs": [
    {
     "data": {
      "text/plain": [
       "[]"
      ]
     },
     "execution_count": 78,
     "metadata": {},
     "output_type": "execute_result"
    },
    {
     "data": {
      "image/png": "[encoded data removed]",
      "text/plain": [
       "<Figure size 576x288 with 2 Axes>"
      ]
     },
     "metadata": {
      "needs_background": "light"
     },
     "output_type": "display_data"
    }
   ],
   "source": [
    "# Insira sua código aqui\n",
    "\n",
    "# criei a figura\n",
    "fig = plt.figure(figsize=(8, 4))\n",
    "\n",
    "# adicionei o da esquerda e trabalhei nele\n",
    "fig.add_subplot(1, 2, 1) # 1 linha, 2 colunas, 1 posição do gráfico \n",
    "plt.xlim(0, 10)\n",
    "plt.title(\"Esquerda\")\n",
    "\n",
    "# adicionei o da direita e trabalhei nele\n",
    "fig.add_subplot(1, 2, 2)\n",
    "plt.ylim(-1, 1)\n",
    "plt.title('Direita')\n",
    "plt.tight_layout()\n",
    "\n",
    "plt.plot()"
   ]
  },
  {
   "cell_type": "code",
   "execution_count": null,
   "metadata": {
    "id": "Gt1p-i-oY_1q",
    "outputId": "e3a032d1-67c3-4212-a807-524dd4bef814"
   },
   "outputs": [
    {
     "data": {
      "text/plain": [
       "[]"
      ]
     },
     "execution_count": 7,
     "metadata": {
      "tags": []
     },
     "output_type": "execute_result"
    },
    {
     "data": {
      "image/png": "[encoded data removed]",
      "text/plain": [
       "<Figure size 576x288 with 2 Axes>"
      ]
     },
     "metadata": {
      "tags": []
     },
     "output_type": "display_data"
    }
   ],
   "source": [
    "# Resultado esperado (não modifique esta célula)"
   ]
  },
  {
   "cell_type": "markdown",
   "metadata": {
    "id": "4Yn2EEkZY_1r"
   },
   "source": [
    "Bem melhor não é? Percebeu como os objetos (*Figure*, *Axes*, etc) são utilizados na montagem do gráfico? E como os atritutos (*figsize*) e métodos (*tight_layout()*, *set_title()*, *set_xlim()*, etc) destes objetos são utilizados para alterar a estética do grafico?\n",
    "\n",
    "Os recursos do Matplotlib são vastos, mas o conceito de hierarquia de elementos das figuras e a interação destes elementos farão você chegar à qualquer lugar na hora de montar seu gráfico."
   ]
  },
  {
   "cell_type": "markdown",
   "metadata": {
    "id": "xiPquc_nY_1r"
   },
   "source": [
    "### Plotando seus gráficos\n",
    "\n",
    "*   List item\n",
    "*   List item\n",
    "\n",
    "\n",
    "Vamos voltar ao conjunto de dados do UFC que carregamos mais cedo. Afinal, o Matplotlib é somente uma tela em branco quando você não tem o que desenhar.\n",
    "\n",
    "A variável *fights_by_year* armazena a quantidade de lutas por ano do evento. Apesar deste notebook não pretender ensinar Pandas, é altamente recomendável que você não tenha dúvida sobre o que foi feito na célula abaixo."
   ]
  },
  {
   "cell_type": "code",
   "execution_count": 11,
   "metadata": {
    "id": "m5tZYxmcY_1s"
   },
   "outputs": [],
   "source": [
    "# Transformando a coluna date em objeto datetime e agrupando as lutas por ano.\n",
    "fights['date'] = pd.to_datetime(fights['date'])\n",
    "fights_by_year = fights.groupby(fights['date'].dt.year).size()\n",
    "#fights_by_year = fights.groupby(fights['date'].dt.year).agg(\"R_fighter\").count()"
   ]
  },
  {
   "cell_type": "markdown",
   "metadata": {
    "id": "GxQ30gcQY_1s"
   },
   "source": [
    "### TAREFA 07\n",
    "1. Plote a evolução das quantidades de lutas por ano no UFC.\n",
    "2. Use um gráfico de linha.\n",
    "3. Configure título e nome dos eixos x e y."
   ]
  },
  {
   "cell_type": "code",
   "execution_count": 14,
   "metadata": {
    "id": "RWOQoBgEY_1t"
   },
   "outputs": [
    {
     "data": {
      "text/plain": [
       "Text(0.5, 1.0, 'Evolução da Quantidade de Lutas do UFC')"
      ]
     },
     "execution_count": 14,
     "metadata": {},
     "output_type": "execute_result"
    },
    {
     "data": {
      "image/png": "[encoded data removed]",
      "text/plain": [
       "<Figure size 432x288 with 1 Axes>"
      ]
     },
     "metadata": {
      "needs_background": "light"
     },
     "output_type": "display_data"
    }
   ],
   "source": [
    "# Insira sua código aqui\n",
    "fig = plt.figure()\n",
    "plt.plot(fights_by_year.index, fights_by_year)\n",
    "plt.xlabel(\"Ano\")\n",
    "plt.ylabel(\"Qt. de lutas\")\n",
    "plt.title('Evolução da Quantidade de Lutas do UFC')"
   ]
  },
  {
   "cell_type": "code",
   "execution_count": null,
   "metadata": {
    "id": "O6LG4m2cY_1u",
    "outputId": "d5afbf7a-be6a-4052-e258-12242eac0194"
   },
   "outputs": [
    {
     "data": {
      "text/plain": [
       "Text(0,0.5,'Qtde. de Lutas')"
      ]
     },
     "execution_count": 9,
     "metadata": {
      "tags": []
     },
     "output_type": "execute_result"
    },
    {
     "data": {
      "image/png": "[encoded data removed]",
      "text/plain": [
       "<Figure size 432x288 with 1 Axes>"
      ]
     },
     "metadata": {
      "tags": []
     },
     "output_type": "display_data"
    }
   ],
   "source": [
    "# Resultado esperado (não modifique esta célula)"
   ]
  },
  {
   "cell_type": "markdown",
   "metadata": {
    "id": "3Zr-TBCQY_1u"
   },
   "source": [
    "### Matplotlib e pandas\n",
    "A biblioteca Pandas possui integração com o Matplotlib, permitindo que sejam criados gráficos diretamente dos dataframes do Pandas. Se você quiser plotar as informações de forma mais rápida, basta utilizar o método *plot()* do próprio dataframe.\n",
    "\n",
    "Separamos as 10 classes de peso mais relevantes - maior quantidade de lutas - do UFC ao longo dos anos."
   ]
  },
  {
   "cell_type": "code",
   "execution_count": 93,
   "metadata": {
    "id": "sOAZRpVbY_1v"
   },
   "outputs": [],
   "source": [
    "fights_by_class = fights['weight_class'].value_counts()[:10]"
   ]
  },
  {
   "cell_type": "markdown",
   "metadata": {
    "id": "sWgyN3b7Y_1v"
   },
   "source": [
    "### TAREFA 08\n",
    "1. Plote a quantidade de lutas das 10 classes de peso mais relevantes do UFC.\n",
    "2. Use um gráfico de barra diretamente do dataframe.\n",
    "3. Armazene seu plot em um objeto *Axe*.\n",
    "4. Configure título e nome dos eixos x e y."
   ]
  },
  {
   "cell_type": "code",
   "execution_count": 96,
   "metadata": {
    "id": "G48r4l9tY_1w"
   },
   "outputs": [
    {
     "data": {
      "text/plain": [
       "<AxesSubplot:>"
      ]
     },
     "execution_count": 96,
     "metadata": {},
     "output_type": "execute_result"
    },
    {
     "data": {
      "image/png": "[encoded data removed]",
      "text/plain": [
       "<Figure size 432x288 with 1 Axes>"
      ]
     },
     "metadata": {
      "needs_background": "light"
     },
     "output_type": "display_data"
    }
   ],
   "source": [
    "# Insira sua código aqui\n",
    "fights_by_class.plot(kind=\"bar\")"
   ]
  },
  {
   "cell_type": "code",
   "execution_count": null,
   "metadata": {
    "id": "sjbumdWhY_1w",
    "outputId": "ff034555-144d-427c-ec8a-3497b4022379"
   },
   "outputs": [
    {
     "data": {
      "image/png": "[encoded data removed]",
      "text/plain": [
       "<Figure size 432x288 with 1 Axes>"
      ]
     },
     "metadata": {
      "tags": []
     },
     "output_type": "display_data"
    }
   ],
   "source": [
    "# Resultado esperado (não modifique esta célula)"
   ]
  },
  {
   "cell_type": "markdown",
   "metadata": {
    "id": "Mz7S1aTpY_1z"
   },
   "source": [
    "## Conclusão\n",
    "Matplotlib é, provavelmente, o pacote Python mais utilizado para gráficos 2D. Ele fornece uma maneira muito rápida de visualizar os dados de Python e figuras de qualidade de publicação em vários formatos. Em conjunto com outras ferramentas, como Pandas e Seaborn (este é um complemento ao Matplotlib), os cientistas de dados tem um grande aliado."
   ]
  },
  {
   "cell_type": "markdown",
   "metadata": {
    "id": "1kOXhnpgY_10"
   },
   "source": [
    "### Awari -  <a href=\"https://awari.com.br/\"> awari.com.br</a>"
   ]
  }
 ],
 "metadata": {
  "colab": {
   "collapsed_sections": [],
   "name": "visualizacao-com-matplotlib.ipynb",
   "provenance": []
  },
  "kernelspec": {
   "display_name": "Python 3",
   "language": "python",
   "name": "python3"
  },
  "language_info": {
   "codemirror_mode": {
    "name": "ipython",
    "version": 3
   },
   "file_extension": ".py",
   "mimetype": "text/x-python",
   "name": "python",
   "nbconvert_exporter": "python",
   "pygments_lexer": "ipython3",
   "version": "3.8.5"
  }
 },
 "nbformat": 4,
 "nbformat_minor": 4
}
