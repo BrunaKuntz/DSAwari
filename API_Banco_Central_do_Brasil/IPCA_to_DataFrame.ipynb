{
  "nbformat": 4,
  "nbformat_minor": 0,
  "metadata": {
    "colab": {
      "name": "API Banco Central do Brasil.ipynb",
      "provenance": [],
      "authorship_tag": "ABX9TyPHYzYvK7tF281PaJ/ksavV",
      "include_colab_link": true
    },
    "kernelspec": {
      "name": "python3",
      "display_name": "Python 3"
    },
    "language_info": {
      "name": "python"
    }
  },
  "cells": [
    {
      "cell_type": "markdown",
      "metadata": {
        "id": "view-in-github",
        "colab_type": "text"
      },
      "source": [
        "<a href=\"https://colab.research.google.com/github/BrunaKuntz/DSAwari/blob/main/API_Banco_Central_do_Brasil/IPCA_to_DataFrame.ipynb\" target=\"_parent\"><img src=\"https://colab.research.google.com/assets/colab-badge.svg\" alt=\"Open In Colab\"/></a>"
      ]
    },
    {
      "cell_type": "code",
      "metadata": {
        "id": "LmRlxnfgZQcQ"
      },
      "source": [
        "#importações\n",
        "import requests\n",
        "import datetime\n",
        "import pandas as pd"
      ],
      "execution_count": 2,
      "outputs": []
    },
    {
      "cell_type": "code",
      "metadata": {
        "id": "qphZHCmCfqnL"
      },
      "source": [
        "# URL dos dados da API\n",
        "url = 'http://api.bcb.gov.br/dados/serie/bcdata.sgs.16121/dados?formato=json'"
      ],
      "execution_count": 3,
      "outputs": []
    },
    {
      "cell_type": "code",
      "metadata": {
        "id": "Ud3HLHf0f001"
      },
      "source": [
        "# Lendo a URL\n",
        "response = requests.get(url)"
      ],
      "execution_count": 4,
      "outputs": []
    },
    {
      "cell_type": "code",
      "metadata": {
        "id": "HsJqZLUef3h3"
      },
      "source": [
        "# Coleta os dados\n",
        "dados = response.json()"
      ],
      "execution_count": 5,
      "outputs": []
    },
    {
      "cell_type": "code",
      "metadata": {
        "id": "CROkM1fkf6cr"
      },
      "source": [
        "# Transforma os dados em um DataFrame\n",
        "df = pd.json_normalize(dados)"
      ],
      "execution_count": 6,
      "outputs": []
    },
    {
      "cell_type": "code",
      "metadata": {
        "id": "SW5JgqEbf-nO"
      },
      "source": [
        "# Salva o DataFrame em um arquivo csv\n",
        "df.to_csv(\"dados_ipca.csv\", index=False)"
      ],
      "execution_count": 7,
      "outputs": []
    }
  ]
}