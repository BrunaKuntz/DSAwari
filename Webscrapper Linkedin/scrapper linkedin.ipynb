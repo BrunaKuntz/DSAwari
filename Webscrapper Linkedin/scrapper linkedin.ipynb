{
 "cells": [
  {
   "cell_type": "code",
   "execution_count": null,
   "metadata": {},
   "outputs": [],
   "source": [
    "# importações\n",
    "from selenium import webdriver\n",
    "from time import sleep\n",
    "driver = webdriver.Chrome()"
   ]
  },
  {
   "cell_type": "code",
   "execution_count": null,
   "metadata": {},
   "outputs": [],
   "source": [
    "# abrindo o linkedin\n",
    "driver.get('https://www.linkedin.com/')"
   ]
  },
  {
   "cell_type": "code",
   "execution_count": null,
   "metadata": {},
   "outputs": [],
   "source": [
    "# login\n",
    "driver.find_element_by_id('session_key').send_keys('seuemail')\n",
    "driver.find_element_by_id('session_password').send_keys('suasenha')\n",
    "driver.find_element_by_xpath('/html/body/main/section[1]/div[2]/form/button').click()\n",
    "driver.find_element_by_xpath('/html/body/div/main/div/section/footer/form[1]/button').click()"
   ]
  },
  {
   "cell_type": "code",
   "execution_count": null,
   "metadata": {},
   "outputs": [],
   "source": [
    "# pesquisando vagas cientista de dados\n",
    "driver.get('https://br.linkedin.com/jobs/cientista-de-dados-vagas')"
   ]
  },
  {
   "cell_type": "code",
   "execution_count": null,
   "metadata": {},
   "outputs": [],
   "source": [
    "# pega lista de resultados\n",
    "lista_de_descricoes = []\n",
    "n = 0\n",
    "p = 25\n",
    "\n",
    "while True:      \n",
    "    try:  \n",
    "        # mudar de página\n",
    "        if n == 25:\n",
    "            n = 0\n",
    "            driver.get(f'https://www.linkedin.com/jobs/search/?keywords=cientista%20de%20dados&originalSubdomain=br&start={p}')\n",
    "            p += 25    \n",
    "        #pegar descrições    \n",
    "        driver.find_element_by_class_name(f'jobs-search-two-pane__job-card-container--viewport-tracking-{n}').click()\n",
    "        driver.implicitly_wait\n",
    "        descricao = driver.find_element_by_id('job-details')\n",
    "        lista_de_descricoes.append(descricao.text)\n",
    "        n += 1\n",
    "       \n",
    "    except:\n",
    "        len(lista_de_descricoes)\n",
    "        driver.quit()\n",
    "        break"
   ]
  },
  {
   "cell_type": "code",
   "execution_count": null,
   "metadata": {},
   "outputs": [],
   "source": [
    "# Limpando as descrições\n",
    "descricao_salvar = '\\n'.join(lista_de_descricoes)\n",
    "with open('descricoes_vagas.txt', 'w', encoding=\"utf-8\") as f:\n",
    "    f.write(descricao_salvar)\n",
    "!type descricoes_vagas.txt"
   ]
  }
 ],
 "metadata": {
  "kernelspec": {
   "display_name": "Python 3",
   "language": "python",
   "name": "python3"
  },
  "language_info": {
   "codemirror_mode": {
    "name": "ipython",
    "version": 3
   },
   "file_extension": ".py",
   "mimetype": "text/x-python",
   "name": "python",
   "nbconvert_exporter": "python",
   "pygments_lexer": "ipython3",
   "version": "3.8.5"
  }
 },
 "nbformat": 4,
 "nbformat_minor": 4
}
