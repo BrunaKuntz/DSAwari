{
  "nbformat": 4,
  "nbformat_minor": 0,
  "metadata": {
    "colab": {
      "name": "Colorizando imagens - Awari.ipynb",
      "provenance": [],
      "collapsed_sections": [],
      "authorship_tag": "ABX9TyOhYcfRE1tXRZtzomOCuUpd",
      "include_colab_link": true
    },
    "kernelspec": {
      "name": "python3",
      "display_name": "Python 3"
    },
    "language_info": {
      "name": "python"
    }
  },
  "cells": [
    {
      "cell_type": "markdown",
      "metadata": {
        "id": "view-in-github",
        "colab_type": "text"
      },
      "source": [
        "<a href=\"https://colab.research.google.com/github/BrunaKuntz/DSAwari/blob/main/Coloriza%C3%A7%C3%A3o.imagens.Awari.ipynb\" target=\"_parent\"><img src=\"https://colab.research.google.com/assets/colab-badge.svg\" alt=\"Open In Colab\"/></a>"
      ]
    },
    {
      "cell_type": "markdown",
      "metadata": {
        "id": "2l7cxGlE9hhF"
      },
      "source": [
        "## **Awari Ciência de Dados**\n",
        "**Tarefa 1** - Colorizando uma foto antiga\n",
        ">  Documentação:https://github.com/jantic/DeOldify\n",
        "                https://colab.research.google.com/github/jantic/DeOldify/blob/master/ImageColorizerColab.ipynb\n",
        "\n",
        "**Descrição:** No meu estudo, resolvi pegar fotos de paisagens em preto e branco para ver como a colorização se comporta em diferentes luzes e cenários.\n",
        "\n",
        "--------------------------------------------------------------------------------"
      ]
    },
    {
      "cell_type": "code",
      "metadata": {
        "id": "hPe8mYDI9gLJ"
      },
      "source": [
        "!wget https://raw.githubusercontent.com/awarischool/data-science/master/image-colorizer/deoldify_wrapper.py"
      ],
      "execution_count": null,
      "outputs": []
    },
    {
      "cell_type": "code",
      "metadata": {
        "id": "DGhOiuFP92SW"
      },
      "source": [
        "from deoldify_wrapper import DeOldify"
      ],
      "execution_count": null,
      "outputs": []
    },
    {
      "cell_type": "code",
      "metadata": {
        "id": "ckcQaGyJ-WyX"
      },
      "source": [
        "deo = DeOldify()"
      ],
      "execution_count": null,
      "outputs": []
    },
    {
      "cell_type": "code",
      "metadata": {
        "id": "bRLCN9As_ELi"
      },
      "source": [
        "deo.colorize(\"https://i.imgur.com/rHEe6Mn.jpg\", render_factor=10)"
      ],
      "execution_count": null,
      "outputs": []
    },
    {
      "cell_type": "code",
      "metadata": {
        "id": "rSbtJkxX_jyM"
      },
      "source": [
        "deo.colorize(\"https://i.imgur.com/17Xifco.jpeg\", render_factor=10)"
      ],
      "execution_count": null,
      "outputs": []
    },
    {
      "cell_type": "code",
      "metadata": {
        "id": "v9CQZ5aNBB7Y"
      },
      "source": [
        "deo.colorize(\"https://i.imgur.com/ZkKVjhY.jpeg\", render_factor=10)"
      ],
      "execution_count": null,
      "outputs": []
    },
    {
      "cell_type": "code",
      "metadata": {
        "id": "6_2cGz5WCdBI"
      },
      "source": [
        "deo.colorize(\"https://i.imgur.com/4ZMW0J4.jpeg\", render_factor=10)"
      ],
      "execution_count": null,
      "outputs": []
    },
    {
      "cell_type": "code",
      "metadata": {
        "id": "6KBjOL7BCowX"
      },
      "source": [
        "deo.colorize((\"https://i.imgur.com/yrCP5vx.jpeg\"), render_factor=10)"
      ],
      "execution_count": null,
      "outputs": []
    },
    {
      "cell_type": "code",
      "metadata": {
        "id": "s8skrE3aCxo9"
      },
      "source": [
        "deo.colorize(\"https://i.imgur.com/RJo18hX.jpeg\", render_factor=10)"
      ],
      "execution_count": null,
      "outputs": []
    },
    {
      "cell_type": "code",
      "metadata": {
        "id": "1PFc18eZC5o1"
      },
      "source": [
        "deo.colorize(\"https://i.imgur.com/rGbexMr.jpeg\", render_factor=10)"
      ],
      "execution_count": null,
      "outputs": []
    },
    {
      "cell_type": "code",
      "metadata": {
        "id": "pXurjDLlDAm-"
      },
      "source": [
        "deo.colorize(\"https://i.imgur.com/JQ3oZgJ.jpeg\", render_factor=10)"
      ],
      "execution_count": null,
      "outputs": []
    },
    {
      "cell_type": "code",
      "metadata": {
        "id": "hDngf_hjDAcp"
      },
      "source": [
        "deo.colorize(\"https://i.imgur.com/EAMpf3S.jpeg\", render_factor=35)"
      ],
      "execution_count": null,
      "outputs": []
    },
    {
      "cell_type": "code",
      "metadata": {
        "id": "sFurJ3J_DIU0"
      },
      "source": [
        "deo.colorize(\"https://i.imgur.com/2HwDirx.jpeg\", render_factor=10)"
      ],
      "execution_count": null,
      "outputs": []
    },
    {
      "cell_type": "code",
      "metadata": {
        "id": "3JjT_QFcDNVX"
      },
      "source": [
        "deo.colorize(\"https://i.imgur.com/yj2EoTV.jpeg\", render_factor=10)"
      ],
      "execution_count": null,
      "outputs": []
    },
    {
      "cell_type": "code",
      "metadata": {
        "id": "qMKWPhLeDO4M"
      },
      "source": [
        "deo.colorize(\"https://i.imgur.com/i6u1hvN.jpeg\", render_factor=10)"
      ],
      "execution_count": null,
      "outputs": []
    },
    {
      "cell_type": "code",
      "metadata": {
        "id": "ULRS2XmUDQzW"
      },
      "source": [
        "deo.colorize(\"https://i.imgur.com/NG1uDnZ.jpeg\", render_factor=10)"
      ],
      "execution_count": null,
      "outputs": []
    },
    {
      "cell_type": "code",
      "metadata": {
        "id": "A-RrjrUsDTbt"
      },
      "source": [
        "deo.colorize(\"https://i.imgur.com/lmpRDLg.jpeg\", render_factor=10)"
      ],
      "execution_count": null,
      "outputs": []
    }
  ]
}
