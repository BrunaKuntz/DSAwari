{
  "nbformat": 4,
  "nbformat_minor": 0,
  "metadata": {
    "colab": {
      "name": "Colorizando imagens - Awari.ipynb",
      "provenance": [],
      "collapsed_sections": [],
      "authorship_tag": "ABX9TyOiHxXjhBv4wkmG+BvZtPd7",
      "include_colab_link": true
    },
    "kernelspec": {
      "display_name": "Python 3",
      "name": "python3"
    },
    "language_info": {
      "name": "python"
    }
  },
  "cells": [
    {
      "cell_type": "markdown",
      "metadata": {
        "id": "view-in-github",
        "colab_type": "text"
      },
      "source": [
        "<a href=\"https://colab.research.google.com/github/BrunaKuntz/DSAwari/blob/main/Colorizando_imagens_Awari.ipynb\" target=\"_parent\"><img src=\"https://colab.research.google.com/assets/colab-badge.svg\" alt=\"Open In Colab\"/></a>"
      ]
    },
    {
      "cell_type": "markdown",
      "metadata": {
        "id": "2l7cxGlE9hhF"
      },
      "source": [
        "## **Awari Ciência de Dados**\n",
        "**Tarefa 1** - Colorizando uma foto antiga\n",
        ">  Documentação:https://github.com/jantic/DeOldify\n",
        "                https://colab.research.google.com/github/jantic/DeOldify/blob/master/ImageColorizerColab.ipynb\n",
        "\n",
        "**Descrição:** No meu estudo, resolvi pegar 10 fotos de paisagens em preto e branco para ver como a colorização se comporta em diferentes luzes e cenários.\n",
        "\n",
        "--------------------------------------------------------------------------------"
      ]
    },
    {
      "cell_type": "code",
      "metadata": {
        "id": "hPe8mYDI9gLJ"
      },
      "source": [
        "!wget https://raw.githubusercontent.com/awarischool/data-science/master/image-colorizer/deoldify_wrapper.py"
      ],
      "execution_count": null,
      "outputs": []
    },
    {
      "cell_type": "code",
      "metadata": {
        "id": "DGhOiuFP92SW"
      },
      "source": [
        "from deoldify_wrapper import DeOldify"
      ],
      "execution_count": null,
      "outputs": []
    },
    {
      "cell_type": "code",
      "metadata": {
        "id": "ckcQaGyJ-WyX"
      },
      "source": [
        "deo = DeOldify()"
      ],
      "execution_count": null,
      "outputs": []
    },
    {
      "cell_type": "code",
      "metadata": {
        "colab": {
          "background_save": true
        },
        "id": "y4qNj7OEUX-I"
      },
      "source": [
        "deo.colorize(\"https://i.pinimg.com/564x/89/d5/6a/89d56af8f6ae082384b2e74a19655652.jpg\", render_factor=10)"
      ],
      "execution_count": null,
      "outputs": []
    },
    {
      "cell_type": "code",
      "metadata": {
        "id": "_XawnCXWUnkW"
      },
      "source": [
        "deo.colorize(\"https://i.pinimg.com/564x/f5/c8/89/f5c889f53b7a028d6d1bf62eeb5e0a76.jpg\", render_factor=10)"
      ],
      "execution_count": null,
      "outputs": []
    },
    {
      "cell_type": "code",
      "metadata": {
        "id": "gZ2wqgB2UvzH"
      },
      "source": [
        "deo.colorize(\"https://i.pinimg.com/564x/ee/14/88/ee1488954ef9d2b51fb0d05b93c10923.jpg\", render_factor=10)"
      ],
      "execution_count": null,
      "outputs": []
    },
    {
      "cell_type": "code",
      "metadata": {
        "id": "I6ms4gi6VuP3"
      },
      "source": [
        "deo.colorize(\"https://i.pinimg.com/564x/91/23/1d/91231dd70145cedb17ad9df5f27bdb95.jpg\", render_factor=10)"
      ],
      "execution_count": null,
      "outputs": []
    },
    {
      "cell_type": "code",
      "metadata": {
        "id": "drbDVJOuWE9a"
      },
      "source": [
        "deo.colorize(\"https://i.pinimg.com/564x/e2/ad/38/e2ad3803ac9fa25f154033c19b10dd44.jpg\", render_factor=10)"
      ],
      "execution_count": null,
      "outputs": []
    },
    {
      "cell_type": "code",
      "metadata": {
        "id": "FnHSh-tkWf1w"
      },
      "source": [
        "deo.colorize(\"https://i.pinimg.com/564x/bc/76/6b/bc766b728e8e14729ea35805574f6bbc.jpg\", render_factor=10)"
      ],
      "execution_count": null,
      "outputs": []
    },
    {
      "cell_type": "code",
      "metadata": {
        "id": "YswKIJggWvKw"
      },
      "source": [
        "deo.colorize(\"https://i.pinimg.com/564x/91/14/9f/91149f86c8e5543b40069cd46da2faa6.jpg\", render_factor=10)"
      ],
      "execution_count": null,
      "outputs": []
    },
    {
      "cell_type": "code",
      "metadata": {
        "id": "ckYkLuj5XUyh"
      },
      "source": [
        "deo.colorize(\"https://i.pinimg.com/564x/f1/ae/3f/f1ae3fb65831b328e7067cf3080ee083.jpg\", render_factor=10)"
      ],
      "execution_count": null,
      "outputs": []
    },
    {
      "cell_type": "code",
      "metadata": {
        "id": "Vca7vTV8XoAK"
      },
      "source": [
        "deo.colorize(\"https://i.pinimg.com/564x/78/a6/61/78a661356b5876f6b35b3c7a660bb540.jpg\", render_factor=10)"
      ],
      "execution_count": null,
      "outputs": []
    },
    {
      "cell_type": "code",
      "metadata": {
        "id": "M3n97dxOX8cL"
      },
      "source": [
        "deo.colorize(\"https://i.pinimg.com/564x/fb/a5/ed/fba5ed91e459889c3c84222035eb533f.jpg\", render_factor=10)"
      ],
      "execution_count": null,
      "outputs": []
    }
  ]
}
