{
  "nbformat": 4,
  "nbformat_minor": 0,
  "metadata": {
    "colab": {
      "name": "Untitled0.ipynb",
      "provenance": [],
      "toc_visible": true,
      "authorship_tag": "ABX9TyMFpcAxm0TJoQHsM7Ogll2Y",
      "include_colab_link": true
    },
    "kernelspec": {
      "name": "python3",
      "display_name": "Python 3"
    },
    "language_info": {
      "name": "python"
    }
  },
  "cells": [
    {
      "cell_type": "markdown",
      "metadata": {
        "id": "view-in-github",
        "colab_type": "text"
      },
      "source": [
        "<a href=\"https://colab.research.google.com/github/BrunaKuntz/br-python-challenges/blob/master/Desafio_12.ipynb\" target=\"_parent\"><img src=\"https://colab.research.google.com/assets/colab-badge.svg\" alt=\"Open In Colab\"/></a>"
      ]
    },
    {
      "cell_type": "markdown",
      "metadata": {
        "id": "DSgbl0w2fY3Q"
      },
      "source": [
        "![](https://i.imgur.com/YX6UATs.png)"
      ]
    },
    {
      "cell_type": "markdown",
      "metadata": {
        "id": "YNyA2Zj9fijf"
      },
      "source": [
        "#**Desafio 12**\n",
        "\n",
        "Escreva uma função em Python para verificar a validade de uma senha.\n",
        "\n",
        "A senha deve ter:\n",
        "\n",
        "Pelo menos 1 letra entre [a-z] e 1 letra entre [A-Z].\n",
        "Pelo menos 1 número entre [0-9].\n",
        "Pelo menos 1 caractere de [$ # @].\n",
        "Comprimento mínimo de 6 caracteres.\n",
        "Comprimento máximo de 16 caracteres.\n",
        "Entradas: \"12345678\", \"J3sus0\", \"#Te5t300\", \"J*90j12374\", \"Michheeul\", \"Monk3y6\"\n",
        "\n",
        "A saída deve ser a senha e um texto indicando se a senha é válida ou inválida:\n",
        "\n",
        "\"1234\" - Senha inválida\n",
        "\"Qw#1234\" - Senha válida"
      ]
    },
    {
      "cell_type": "code",
      "metadata": {
        "id": "lOrnm2Hn1MG0"
      },
      "source": [
        "import re\n",
        "def test_password(password):\n",
        " \n",
        "  min_num = 1\n",
        "  min_maiscula = 1\n",
        "  min_minusula = 1\n",
        "  min_especial = 1\n",
        "  min_tamanho = 6\n",
        "  max_tamanho = 16\n",
        " \n",
        "  if len(password) >= min_tamanho:\n",
        "    if len(password) <= max_tamanho:\n",
        "      if len(re.findall(r\"[A-Z]\", password)) >= min_maiscula:\n",
        "        if len(re.findall(r\"[a-z]\", password)) >= min_minusula:\n",
        "          if len(re.findall(r\"[0-9]\", password)) >= min_num:\n",
        "            if len(re.findall(r\"[@#$]\", password)) >= min_especial:\n",
        "              print('senha válida')\n",
        "            else:\n",
        "              print('senha inválida')\n",
        "          else:\n",
        "            print('senha inválida')\n",
        "        else:\n",
        "          print('senha inválida')\n",
        "      else:\n",
        "        print('senha inválida')\n",
        "    else:\n",
        "      print('senha inválida')\n",
        "  else:\n",
        "    print('senha inválida')\n",
        " \n",
        "test_password(\"12345678\")\n",
        "test_password(\"J3sus0\")\n",
        "test_password(\"#Te5t300\")\n",
        "test_password(\"J*90j12374\")\n",
        "test_password(\"Michheeul\")\n",
        "test_password(\"Monk3y6\")"
      ],
      "execution_count": null,
      "outputs": []
    }
  ]
}