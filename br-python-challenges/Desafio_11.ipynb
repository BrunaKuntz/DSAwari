{
  "nbformat": 4,
  "nbformat_minor": 0,
  "metadata": {
    "colab": {
      "name": "Untitled0.ipynb",
      "provenance": [],
      "toc_visible": true,
      "authorship_tag": "ABX9TyNuPqk58c7cs4V7QDHzpnNz",
      "include_colab_link": true
    },
    "kernelspec": {
      "name": "python3",
      "display_name": "Python 3"
    },
    "language_info": {
      "name": "python"
    }
  },
  "cells": [
    {
      "cell_type": "markdown",
      "metadata": {
        "id": "view-in-github",
        "colab_type": "text"
      },
      "source": [
        "<a href=\"https://colab.research.google.com/github/BrunaKuntz/br-python-challenges/blob/master/Desafio_11.ipynb\" target=\"_parent\"><img src=\"https://colab.research.google.com/assets/colab-badge.svg\" alt=\"Open In Colab\"/></a>"
      ]
    },
    {
      "cell_type": "markdown",
      "metadata": {
        "id": "DSgbl0w2fY3Q"
      },
      "source": [
        "![](https://i.imgur.com/YX6UATs.png)"
      ]
    },
    {
      "cell_type": "markdown",
      "metadata": {
        "id": "YNyA2Zj9fijf"
      },
      "source": [
        "#**Desafio 11**\n",
        "\n",
        "Dados uma sequência com n números inteiros, determinar quantos números da sequência são pares e quantos são ímpares.\\ Por exemplo, para a sequência\n",
        "\n",
        "6   2   7  -5   8  -4\n",
        "\n",
        "a sua função deve retornar o número 4 para o número de pares e 2 para o de ímpares.\\ A saída deve ser um tupla contendo primeiramente o número de pares e em seguida o número de ímpares.\\ Para o exemplo anterior, a saída seria (4, 2)."
      ]
    },
    {
      "cell_type": "code",
      "metadata": {
        "id": "lOrnm2Hn1MG0"
      },
      "source": [
        "def contar_pares_impares(entrada):\n",
        "  par = 0\n",
        "  impar = 0\n",
        "  for i in entrada:\n",
        "    if i % 2 == 0:\n",
        "      par += 1\n",
        "    else:\n",
        "      impar+=1\n",
        "  return (par,impar)"
      ],
      "execution_count": 18,
      "outputs": []
    },
    {
      "cell_type": "code",
      "metadata": {
        "id": "sJTFDWfV1yDu"
      },
      "source": [
        "contar_pares_impares([6, 2, 7, -5, 8, -4])"
      ],
      "execution_count": null,
      "outputs": []
    }
  ]
}