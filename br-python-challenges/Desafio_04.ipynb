{
  "nbformat": 4,
  "nbformat_minor": 0,
  "metadata": {
    "colab": {
      "name": "Untitled0.ipynb",
      "provenance": [],
      "authorship_tag": "ABX9TyMDAE1byK7OFkMueBnAjbUB",
      "include_colab_link": true
    },
    "kernelspec": {
      "name": "python3",
      "display_name": "Python 3"
    },
    "language_info": {
      "name": "python"
    }
  },
  "cells": [
    {
      "cell_type": "markdown",
      "metadata": {
        "id": "view-in-github",
        "colab_type": "text"
      },
      "source": [
        "<a href=\"https://colab.research.google.com/github/BrunaKuntz/br-python-challenges/blob/master/Desafio_04.ipynb\" target=\"_parent\"><img src=\"https://colab.research.google.com/assets/colab-badge.svg\" alt=\"Open In Colab\"/></a>"
      ]
    },
    {
      "cell_type": "markdown",
      "metadata": {
        "id": "DSgbl0w2fY3Q"
      },
      "source": [
        "![](https://i.imgur.com/YX6UATs.png)"
      ]
    },
    {
      "cell_type": "markdown",
      "metadata": {
        "id": "YNyA2Zj9fijf"
      },
      "source": [
        "#**Desafio 4**\n",
        "Escreva uma função cuja entrada é uma string e a saída é outra string com as palavras em ordem inversa.\n",
        "\n",
        "Exemplo:\n",
        "\n",
        "inverte_texto(\"Python é legal\") ➞ \"legal é Python\""
      ]
    },
    {
      "cell_type": "code",
      "metadata": {
        "id": "LZdWlZ00gaTw"
      },
      "source": [
        "s = \"Python é legal\""
      ],
      "execution_count": 12,
      "outputs": []
    },
    {
      "cell_type": "code",
      "metadata": {
        "id": "juS82Tt6gpeY"
      },
      "source": [
        "def inverte_string(s):\n",
        "  lista_da_string = s.split(\" \")\n",
        "  lista_invertida = lista_da_string[::-1]\n",
        "  return \" \".join(lista_invertida)"
      ],
      "execution_count": 13,
      "outputs": []
    },
    {
      "cell_type": "code",
      "metadata": {
        "id": "UDPv2xuWhAo5"
      },
      "source": [
        "inverte_string(\"python é legal\")"
      ],
      "execution_count": null,
      "outputs": []
    }
  ]
}