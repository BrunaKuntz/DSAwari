{
  "nbformat": 4,
  "nbformat_minor": 0,
  "metadata": {
    "colab": {
      "name": "Untitled0.ipynb",
      "provenance": [],
      "authorship_tag": "ABX9TyOdqIGR+9X6sMG06pMQh1zU",
      "include_colab_link": true
    },
    "kernelspec": {
      "name": "python3",
      "display_name": "Python 3"
    },
    "language_info": {
      "name": "python"
    }
  },
  "cells": [
    {
      "cell_type": "markdown",
      "metadata": {
        "id": "view-in-github",
        "colab_type": "text"
      },
      "source": [
        "<a href=\"https://colab.research.google.com/github/BrunaKuntz/br-python-challenges/blob/master/Desafio_01.ipynb\" target=\"_parent\"><img src=\"https://colab.research.google.com/assets/colab-badge.svg\" alt=\"Open In Colab\"/></a>"
      ]
    },
    {
      "cell_type": "markdown",
      "metadata": {
        "id": "uENzYyYna5-F"
      },
      "source": [
        "![](https://i.imgur.com/YX6UATs.png)"
      ]
    },
    {
      "cell_type": "markdown",
      "metadata": {
        "id": "g17hdv0JbAcU"
      },
      "source": [
        "\n",
        "#**Desafio 1**\n",
        "Escreva um programa em Python para contabilizar a quantidade de ocorrências de cada palavra."
      ]
    },
    {
      "cell_type": "code",
      "metadata": {
        "id": "GmymhOc0bIdE"
      },
      "source": [
        "palavras = ['red', 'green', 'black', 'pink', 'black', 'white', 'black', 'eyes',\n",
        "   'white', 'black', 'orange', 'pink', 'pink', 'red', 'red', 'white', 'orange',\n",
        "   'white', \"black\", 'pink', 'green', 'green', 'pink', 'green', 'pink',\n",
        "   'white', 'orange', \"orange\", 'red']\n"
      ],
      "execution_count": 3,
      "outputs": []
    },
    {
      "cell_type": "code",
      "metadata": {
        "id": "Gm1nhtmbbvwm"
      },
      "source": [
        "palavras_unicas = set(palavras)"
      ],
      "execution_count": 5,
      "outputs": []
    },
    {
      "cell_type": "code",
      "metadata": {
        "id": "IXq5KJ-FcfAi"
      },
      "source": [
        "palavras_unicas"
      ],
      "execution_count": null,
      "outputs": []
    },
    {
      "cell_type": "code",
      "metadata": {
        "id": "bMvL7fBfb-Fa"
      },
      "source": [
        "for p_unica in palavras_unicas:\n",
        "  total_aparicoes = sum([1 for p in palavras if p==p_unica])\n",
        "  print(f'{p_unica}:{total_aparicoes}')"
      ],
      "execution_count": null,
      "outputs": []
    },
    {
      "cell_type": "markdown",
      "metadata": {
        "id": "w7r0uZTNc_P2"
      },
      "source": [
        "2ª opção:"
      ]
    },
    {
      "cell_type": "code",
      "metadata": {
        "id": "_vVZ7UVgc-VV"
      },
      "source": [
        "for x in set(palavras):\n",
        "  print(f\"{x}: {palavras.count(x)}\")"
      ],
      "execution_count": null,
      "outputs": []
    },
    {
      "cell_type": "markdown",
      "metadata": {
        "id": "MmWKo0kcelLO"
      },
      "source": [
        "3ª opção:"
      ]
    },
    {
      "cell_type": "code",
      "metadata": {
        "id": "nUzI3GtMeLu8"
      },
      "source": [
        "ocorrencias = {palavra: palavras.count(palavra) for palavra in palavras_unicas}"
      ],
      "execution_count": 12,
      "outputs": []
    },
    {
      "cell_type": "code",
      "metadata": {
        "id": "l8K1NO71ed5p"
      },
      "source": [
        "ocorrencias"
      ],
      "execution_count": null,
      "outputs": []
    }
  ]
}