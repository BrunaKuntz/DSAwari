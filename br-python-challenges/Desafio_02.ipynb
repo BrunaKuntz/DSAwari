{
  "nbformat": 4,
  "nbformat_minor": 0,
  "metadata": {
    "colab": {
      "name": "Untitled0.ipynb",
      "provenance": [],
      "toc_visible": true,
      "authorship_tag": "ABX9TyNU9ujYJqaXiLC5Mp9MZWwe",
      "include_colab_link": true
    },
    "kernelspec": {
      "name": "python3",
      "display_name": "Python 3"
    },
    "language_info": {
      "name": "python"
    }
  },
  "cells": [
    {
      "cell_type": "markdown",
      "metadata": {
        "id": "view-in-github",
        "colab_type": "text"
      },
      "source": [
        "<a href=\"https://colab.research.google.com/github/BrunaKuntz/br-python-challenges/blob/master/Desafio_02.ipynb\" target=\"_parent\"><img src=\"https://colab.research.google.com/assets/colab-badge.svg\" alt=\"Open In Colab\"/></a>"
      ]
    },
    {
      "cell_type": "markdown",
      "metadata": {
        "id": "DSgbl0w2fY3Q"
      },
      "source": [
        "![](https://i.imgur.com/YX6UATs.png)"
      ]
    },
    {
      "cell_type": "markdown",
      "metadata": {
        "id": "YNyA2Zj9fijf"
      },
      "source": [
        "#**Desafio 2**\n",
        "\n",
        "Escreva uma função que receba um número inteiro de horas e converta esse número para segundos.\n",
        "\n",
        "Exemplo:\n",
        "\n",
        "convert(5) ➞ 18000\n",
        "\n",
        "convert(3) ➞ 10800\n",
        "\n",
        "convert(2) ➞ 7200"
      ]
    },
    {
      "cell_type": "code",
      "metadata": {
        "id": "oiPFK5LoVDTx"
      },
      "source": [
        "def convert_to_sec(number):\n",
        "  minutos = number*60\n",
        "  segundos = minutos*60\n",
        "  return segundos\n",
        "\n",
        "print(convert_to_sec(5))\n",
        "print(convert_to_sec(3))\n",
        "print(convert_to_sec(2))"
      ],
      "execution_count": null,
      "outputs": []
    }
  ]
}